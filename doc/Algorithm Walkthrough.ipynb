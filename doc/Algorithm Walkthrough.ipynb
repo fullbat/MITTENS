{
 "cells": [
  {
   "cell_type": "markdown",
   "metadata": {},
   "source": [
    "# Finding the closed-form solution for transition probabilities\n",
    "\n",
    "Here we describe the process of finding all turning angle sequences and their accompanying volumes using a 2D example. \n",
    "\n",
    "\n",
    "### Finite directions represented in an ODF\n",
    "\n",
    "Currently `MITTENS` requires that ODFs have values estimated for a set of pre-defined directions $\\Theta$. Here we will use the `\"odf4\"` set of directions from DSI Studio. Here we select only directions that are in the axial plane, resulting in a set of directions in 2D:"
   ]
  },
  {
   "cell_type": "code",
   "execution_count": 11,
   "metadata": {},
   "outputs": [
    {
     "name": "stdout",
     "output_type": "stream",
     "text": [
      "Populating the interactive namespace from numpy and matplotlib\n"
     ]
    },
    {
     "ename": "ImportError",
     "evalue": "No module named mittens.utils",
     "output_type": "error",
     "traceback": [
      "\u001b[0;31m---------------------------------------------------------------------------\u001b[0m",
      "\u001b[0;31mImportError\u001b[0m                               Traceback (most recent call last)",
      "\u001b[0;32m<ipython-input-11-bc34c5e11be2>\u001b[0m in \u001b[0;36m<module>\u001b[0;34m()\u001b[0m\n\u001b[1;32m      1\u001b[0m \u001b[0mget_ipython\u001b[0m\u001b[0;34m(\u001b[0m\u001b[0;34m)\u001b[0m\u001b[0;34m.\u001b[0m\u001b[0mmagic\u001b[0m\u001b[0;34m(\u001b[0m\u001b[0;34mu'pylab inline'\u001b[0m\u001b[0;34m)\u001b[0m\u001b[0;34m\u001b[0m\u001b[0m\n\u001b[0;32m----> 2\u001b[0;31m \u001b[0;32mfrom\u001b[0m \u001b[0mmittens\u001b[0m\u001b[0;34m.\u001b[0m\u001b[0mutils\u001b[0m \u001b[0;32mimport\u001b[0m \u001b[0;34m*\u001b[0m\u001b[0;34m\u001b[0m\u001b[0m\n\u001b[0m\u001b[1;32m      3\u001b[0m \u001b[0modf_vertices\u001b[0m\u001b[0;34m,\u001b[0m \u001b[0modf_faces\u001b[0m \u001b[0;34m=\u001b[0m \u001b[0mget_dsi_studio_ODF_geometry\u001b[0m\u001b[0;34m(\u001b[0m\u001b[0;34m\"odf4\"\u001b[0m\u001b[0;34m)\u001b[0m\u001b[0;34m\u001b[0m\u001b[0m\n\u001b[1;32m      4\u001b[0m \u001b[0;34m\u001b[0m\u001b[0m\n\u001b[1;32m      5\u001b[0m \u001b[0;31m# select only the vertices in the x,y plane\u001b[0m\u001b[0;34m\u001b[0m\u001b[0;34m\u001b[0m\u001b[0m\n",
      "\u001b[0;31mImportError\u001b[0m: No module named mittens.utils"
     ]
    }
   ],
   "source": [
    "%pylab inline\n",
    "from mittens.utils import *\n",
    "odf_vertices, odf_faces = get_dsi_studio_ODF_geometry(\"odf4\")\n",
    "\n",
    "# select only the vertices in the x,y plane\n",
    "ok_vertices = np.abs(odf_vertices[:,2]) < 0.01\n",
    "odf_vertices = odf_vertices[ok_vertices]\n",
    "\n",
    "def draw_vertex(ax, vertex, color=\"r\"):\n",
    "    ax.plot((0,vertex[0]), (0,vertex[1]), color=color,linewidth=3,alpha=0.6)\n",
    "\n",
    "def draw_vertices(ax,selected_vertex=None,selected_vertex_color=\"r\"):\n",
    "    # Draws ODF Vertices on an axis object\n",
    "    center = np.zeros(ok_vertices.sum())\n",
    "    ax.quiver(center, center, odf_vertices[:,0], odf_vertices[:,1], \n",
    "              scale=1,angles=\"xy\", scale_units=\"xy\")\n",
    "    ax.set_xlim(-1,1)\n",
    "    ax.set_ylim(-1,1)\n",
    "    ax.set_xticks([])\n",
    "    ax.set_yticks([])\n",
    "    \n",
    "    if selected_vertex is not None:\n",
    "        draw_vertex(ax,selected_vertex,color=selected_vertex_color)\n",
    "    \n",
    "# Plot them to make sure\n",
    "fig,ax = plt.subplots(figsize=(4,4))\n",
    "ax.set_title(\"Axial ODF Directions\")\n",
    "draw_vertices(ax);"
   ]
  },
  {
   "cell_type": "markdown",
   "metadata": {},
   "source": [
    "In practice there will need to be diffusion magnitudes for each direction, $\\bar{p}_u(\\theta)$. Some packages such as MRTRIX do not evaluate ODFs on a fixed set of directions and instead store SH coefficients. These can be evaluated on a set of directions and used in `MITTENS`, but for this example we don't actually need these values. Instead, we leave the magnitudes out of this exercise and keep $\\bar{p}_u(\\theta)$ as a variable that will be filled in later with empirical values.\n",
    "\n",
    "### Turning angle sequences\n",
    "\n",
    "In order to calculate analytic transition probability from voxel $u$ to voxel $v$ we need to find the finite set of turning angle sequences that can make a final hop into $v$ from $u$ while obeying the geometric constraints. Then for each turning angle sequence $\\sigma \\in \\mathit{\\Sigma}$ we have to find the accompanying volume $\\mathcal{V}(\\sigma,v)$ where $\\sigma$ could start such that it ends in $v$. Here we plot the 2D voxel grid with voxel $u$ in the center and potential voxel $v$'s numbered around it:"
   ]
  },
  {
   "cell_type": "code",
   "execution_count": 4,
   "metadata": {},
   "outputs": [
    {
     "data": {
      "text/plain": [
       "''"
      ]
     },
     "execution_count": 4,
     "metadata": {},
     "output_type": "execute_result"
    },
    {
     "data": {
      "image/png": "[encoded data removed]",
      "text/plain": [
       "<matplotlib.figure.Figure at 0x7f7474763e10>"
      ]
     },
     "metadata": {},
     "output_type": "display_data"
    }
   ],
   "source": [
    "# Plot the voxel grid\n",
    "def draw_grid(ax):\n",
    "    \n",
    "    for border in (0,1):\n",
    "        ax.axhline(border,color=\"k\")\n",
    "        ax.axvline(border,color=\"k\")\n",
    "    ax.set_xlim(-1,2)\n",
    "    ax.set_ylim(-1,2)\n",
    "    ax.set_xticks([])\n",
    "    ax.set_yticks([])\n",
    "\n",
    "nfig,nax = plt.subplots(figsize=(4,4))\n",
    "draw_grid(nax)\n",
    "nax.set_title(\"Example Voxel Grid\")\n",
    "neighbors_coords = []\n",
    "for xshift in (-1,0,1):\n",
    "    for yshift in (-1,0,1):\n",
    "        if not xshift == yshift == 0:\n",
    "            neighbors_coords.append((xshift,yshift))\n",
    "\n",
    "for neighbornum,neighbor in enumerate(neighbors_coords):\n",
    "    nax.text(neighbor[0] + 0.5, neighbor[1] + 0.5, str(neighbornum))\n",
    "\n",
    ";"
   ]
  },
  {
   "cell_type": "markdown",
   "metadata": {},
   "source": [
    "Suppose we want to find the possible ways to get from center voxel $u$ to the right anterior neighbor $v$ (ie neighbor 7). We first need to define the geometric constraints. \n",
    "We make the following assumptions\n",
    "\n",
    " * Voxel edges are all fixed length. Here we use 1\n",
    " * Step size is a fixed length. Here we use 0.5\n",
    " * The maximum turning angle is 35 degrees\n",
    "\n",
    "Now we can begin finding the turning angle sequences that can get from $u$ to $v$. This problem is solved recursively. Each step in the recursion requires a potential source rectangle, a desired target rectangle and step vector. The step vector is of our chosen fixed length in a direction available in $\\Theta$. At each recursion it is determed whether a rectangle exists in the source rectangle where a step can be taken along the step vector such that it ends in the target rectangle. Below are some plotting functions and the function that will be called recursively (`get_area`):\n",
    "\n"
   ]
  },
  {
   "cell_type": "code",
   "execution_count": 12,
   "metadata": {
    "collapsed": true
   },
   "outputs": [],
   "source": [
    "def overlap(min1, max1, min2, max2):\n",
    "    # Compares bounding coordinates of two rectangles\n",
    "    return max(0, min(max1, max2) - max(min1, min2)), max(min1,min2), min(max1,max2)\n",
    "\n",
    "\n",
    "def get_area(source_low_left, source_top_right, target_low_left,\n",
    "                              target_top_right, direction):\n",
    "    ''' \n",
    "    2D computation of the area in source rectangle from which a step of size STEPSIZE in\n",
    "    direction will land in the target rectangle\n",
    "\n",
    "    Parameters:\n",
    "    ----------\n",
    "    source_low_left:  tuple of lower, left coordinates of source rectangle\n",
    "    source_top_right: tuple of upper, right coordinates of source rectangle\n",
    "\n",
    "    target_low_left:  tuple of lower, left coordinates of target rectangle\n",
    "    target_top_right: tuple of upper, right coordinates of target rectangle\n",
    "\n",
    "    direction:tuple specifying the direction considered\n",
    "\n",
    "    Returns: the area, (lower, left)- coordinates, (upper, right)-coordinates of the \n",
    "    area in the source rectangle from which a step of size STEPSIZE in the given direction \n",
    "    will land in the target rectangle\n",
    "    '''\n",
    "    \n",
    "    x_min = target_low_left[0] - STEPSIZE*direction[0]\n",
    "    x_max = target_top_right[0] - STEPSIZE*direction[0]\n",
    "    \n",
    "    x_delta,x_start,x_end = overlap(source_low_left[0],source_top_right[0],x_min,x_max)\n",
    "    y_min = target_low_left[1] - STEPSIZE*direction[1]\n",
    "    y_max = target_top_right[1] - STEPSIZE*direction[1]\n",
    "    \n",
    "    y_delta,y_start,y_end = overlap(source_low_left[1],source_top_right[1],y_min,y_max)\n",
    "  \n",
    "    return x_delta*y_delta, [x_start, y_start], [x_end,y_end]\n",
    "\n",
    "# Some functions for plotting\n",
    "from matplotlib import patches\n",
    "def draw_square(lower_left, upper_right, ax, color, fill=True):\n",
    "    ax.add_patch(\n",
    "            patches.Rectangle(lower_left, upper_right[0]-lower_left[0],\n",
    "                upper_right[1] - lower_left[1], alpha=1, color=color, fill=fill))\n",
    "\n"
   ]
  },
  {
   "cell_type": "markdown",
   "metadata": {},
   "source": [
    "### One-hop turning angle sequences\n",
    "\n",
    "We start with finding all 1-hop turning angle sequences from $u$ to $v$. All directions in $\\Theta$ need to be tested. We will start with the sixth direction in $\\Theta$, $\\Theta[5]$ times the step size of 0.5 to create our first step vector. The first call to `get_area` will have the boundaries of center voxel $u$ as the source rectangle. The boundaries of the target voxel $v$ are target rectangle.\n",
    "\n",
    "*Intuitively this step is solving the problem \"If I seed somewhere in voxel $u$ and know I'm going to take direction $\\Theta[5]$,  where can I land in voxel $u$ so that I'm going to end in voxel $v$?\"*\n",
    "\n",
    "Now we can call `get_area` after specifying the step size, turning angle max, and an initial direction"
   ]
  },
  {
   "cell_type": "code",
   "execution_count": 6,
   "metadata": {},
   "outputs": [
    {
     "ename": "NameError",
     "evalue": "name 'odf_vertices' is not defined",
     "output_type": "error",
     "traceback": [
      "\u001b[0;31m---------------------------------------------------------------------------\u001b[0m",
      "\u001b[0;31mNameError\u001b[0m                                 Traceback (most recent call last)",
      "\u001b[0;32m<ipython-input-6-558fb4044fba>\u001b[0m in \u001b[0;36m<module>\u001b[0;34m()\u001b[0m\n\u001b[1;32m      1\u001b[0m \u001b[0mSTEPSIZE\u001b[0m\u001b[0;34m=\u001b[0m\u001b[0;36m0.5\u001b[0m \u001b[0;31m# choose the fixed step size\u001b[0m\u001b[0;34m\u001b[0m\u001b[0m\n\u001b[0;32m----> 2\u001b[0;31m \u001b[0mtheta1\u001b[0m \u001b[0;34m=\u001b[0m \u001b[0modf_vertices\u001b[0m\u001b[0;34m[\u001b[0m\u001b[0;36m5\u001b[0m\u001b[0;34m]\u001b[0m \u001b[0;31m# Choose the 6th direction in Theta as an example\u001b[0m\u001b[0;34m\u001b[0m\u001b[0m\n\u001b[0m\u001b[1;32m      3\u001b[0m \u001b[0mangle_max\u001b[0m \u001b[0;34m=\u001b[0m \u001b[0;36m35\u001b[0m \u001b[0;31m# in degrees\u001b[0m\u001b[0;34m\u001b[0m\u001b[0m\n\u001b[1;32m      4\u001b[0m \u001b[0;34m\u001b[0m\u001b[0m\n\u001b[1;32m      5\u001b[0m \u001b[0;31m# For plotting\u001b[0m\u001b[0;34m\u001b[0m\u001b[0;34m\u001b[0m\u001b[0m\n",
      "\u001b[0;31mNameError\u001b[0m: name 'odf_vertices' is not defined"
     ]
    }
   ],
   "source": [
    "STEPSIZE=0.5 # choose the fixed step size\n",
    "theta1 = odf_vertices[5] # Choose the 6th direction in Theta as an example\n",
    "angle_max = 35 # in degrees\n",
    "\n",
    "# For plotting\n",
    "fig,(dax,vax) = plt.subplots(ncols=2,subplot_kw = {\"aspect\":\"equal\"})\n",
    "draw_vertices(dax,theta1)\n",
    "draw_grid(vax)\n",
    "\n",
    "# Specift rectangle boundaries\n",
    "v11 = (0,0) # Lower left of (0,0)\n",
    "v12 = (1,1) # Upper right of (0,0)\n",
    "v21 = (1,1) # Lower left of (1,1)\n",
    "v22 = (2,2) # Upper right of (1,1)\n",
    "area1,sq_bot1,sq_top1 = get_area(v11,v12,v21,v22,theta1)\n",
    "\n",
    "draw_square(sq_bot1, sq_top1, vax, \"r\")\n"
   ]
  },
  {
   "cell_type": "markdown",
   "metadata": {},
   "source": [
    "We have generated a turning angle sequence $\\sigma_1=(\\Theta[5])$ and calculated the volume from which this turning angle sequence could begin such that it ends in $v$ (it's stored in the `area1` variable, plotted as a red rectangle). \n",
    "\n",
    "This is the first equivalence class that we've found. In probabilistic simulations, the probability of landing *exactly* in the red square *and* randomly selecting $\\Theta[5]$ is $\\bar{p}_u(\\Theta[5])\\mathcal{V}(\\sigma_1,v)$. Or, more concretely, it would be `area1*odf_magnitudes[5]` if the ODF magnitudes were stored in an array called `odf_magnitudes`. \n",
    "\n",
    "Recall that the analytic transition probability from $u$ to $v$ is\n",
    "\n",
    "$$\\text{P}(u \\rightarrow v) = \\sum_{\\sigma \\in \\mathit{\\Sigma}}\\text{P}_u(\\sigma) \\mathcal{V}( \\sigma, v ) $$\n",
    "\n",
    "You can directly calculate the probability of this one-hop turning angle sequence by\n",
    "\n",
    "```python\n",
    "prob_sigma1 = area1 * odf_magnitudes[5]\n",
    "```\n",
    "\n",
    "\n",
    "## Two-hop turning angle sequences\n",
    "\n",
    "Now that we have a one-hop turning angle sequence and its corresponding $\\mathcal{V}$, we can loop over other directions in $\\Theta$ to see which could be taken *into* the red area. For example, suppose the loop has made it to $\\Theta[1]$.  We again call `get_area`, but this time the target rectangle is the red rectangle from the previous step.\n",
    "\n",
    "Here we plot the two directions in a new turning angle sequence $\\sigma_2=(\\Theta[1],\\Theta[5])$ and $\\mathcal{V}(\\sigma_2, v)$ is drawn in blue:"
   ]
  },
  {
   "cell_type": "code",
   "execution_count": 7,
   "metadata": {},
   "outputs": [
    {
     "ename": "NameError",
     "evalue": "name 'odf_vertices' is not defined",
     "output_type": "error",
     "traceback": [
      "\u001b[0;31m---------------------------------------------------------------------------\u001b[0m",
      "\u001b[0;31mNameError\u001b[0m                                 Traceback (most recent call last)",
      "\u001b[0;32m<ipython-input-7-9def8720943b>\u001b[0m in \u001b[0;36m<module>\u001b[0;34m()\u001b[0m\n\u001b[1;32m      1\u001b[0m \u001b[0;31m# try a theta2\u001b[0m\u001b[0;34m\u001b[0m\u001b[0;34m\u001b[0m\u001b[0m\n\u001b[0;32m----> 2\u001b[0;31m \u001b[0mtheta2\u001b[0m \u001b[0;34m=\u001b[0m \u001b[0modf_vertices\u001b[0m\u001b[0;34m[\u001b[0m\u001b[0;36m1\u001b[0m\u001b[0;34m]\u001b[0m\u001b[0;34m\u001b[0m\u001b[0m\n\u001b[0m\u001b[1;32m      3\u001b[0m \u001b[0mfig\u001b[0m\u001b[0;34m,\u001b[0m\u001b[0;34m(\u001b[0m\u001b[0mdax1\u001b[0m\u001b[0;34m,\u001b[0m\u001b[0mvax1\u001b[0m\u001b[0;34m)\u001b[0m \u001b[0;34m=\u001b[0m \u001b[0mplt\u001b[0m\u001b[0;34m.\u001b[0m\u001b[0msubplots\u001b[0m\u001b[0;34m(\u001b[0m\u001b[0mncols\u001b[0m\u001b[0;34m=\u001b[0m\u001b[0;36m2\u001b[0m\u001b[0;34m,\u001b[0m\u001b[0msubplot_kw\u001b[0m \u001b[0;34m=\u001b[0m \u001b[0;34m{\u001b[0m\u001b[0;34m\"aspect\"\u001b[0m\u001b[0;34m:\u001b[0m\u001b[0;34m\"equal\"\u001b[0m\u001b[0;34m}\u001b[0m\u001b[0;34m)\u001b[0m\u001b[0;34m\u001b[0m\u001b[0m\n\u001b[1;32m      4\u001b[0m \u001b[0mdraw_vertices\u001b[0m\u001b[0;34m(\u001b[0m\u001b[0mdax1\u001b[0m\u001b[0;34m,\u001b[0m \u001b[0mtheta1\u001b[0m\u001b[0;34m,\u001b[0m\u001b[0mselected_vertex_color\u001b[0m\u001b[0;34m=\u001b[0m\u001b[0;34m\"r\"\u001b[0m\u001b[0;34m)\u001b[0m\u001b[0;34m\u001b[0m\u001b[0m\n\u001b[1;32m      5\u001b[0m \u001b[0mdraw_vertex\u001b[0m\u001b[0;34m(\u001b[0m\u001b[0mdax1\u001b[0m\u001b[0;34m,\u001b[0m\u001b[0mtheta2\u001b[0m\u001b[0;34m,\u001b[0m\u001b[0mcolor\u001b[0m\u001b[0;34m=\u001b[0m\u001b[0;34m\"b\"\u001b[0m\u001b[0;34m)\u001b[0m\u001b[0;34m\u001b[0m\u001b[0m\n",
      "\u001b[0;31mNameError\u001b[0m: name 'odf_vertices' is not defined"
     ]
    }
   ],
   "source": [
    "# try a theta2\n",
    "theta2 = odf_vertices[1]\n",
    "fig,(dax1,vax1) = plt.subplots(ncols=2,subplot_kw = {\"aspect\":\"equal\"})\n",
    "draw_vertices(dax1, theta1,selected_vertex_color=\"r\")\n",
    "draw_vertex(dax1,theta2,color=\"b\")\n",
    "draw_grid(vax1)\n",
    "draw_square(sq_bot1,sq_top1, vax1, \"r\")\n",
    "\n",
    "area2,sq_bot2,sq_top2 = get_area(v11,v12,sq_bot1,sq_top1,theta2)\n",
    "draw_square(sq_bot2,sq_top2, vax1, \"b\")\n"
   ]
  },
  {
   "cell_type": "markdown",
   "metadata": {},
   "source": [
    "Thinking back to probabilistic simulations, we need to calculate the probability of landing in the blue rectangle *and* randomly selecting $\\Theta[1]$ *and then* randomly selecting $\\Theta[5]$ from directions compatible with direction $\\Theta[1]$. \n",
    "\n",
    "The probability of landing in the blue rectangle is $\\mathcal{V}(\\sigma_2,v)$, which is stored in the `area2` variable. There is no constraint on the first step, which is randomly selected from all the directions in $\\Theta$. The probability is then simply $\\bar{p}_u(\\Theta[1])$, or `odf_magnitudes[1]`. The next step is not as simple because the maximum turning angle parameter comes into play. The next step isn't randomly selected from all the directions in $\\Theta$, but only those who create an angle less than the maximum turning angle with the previous step. Suppose only directions 0-9 are compatible with $\\Theta[5]$. The conditional probability $\\text{P}(\\Theta[5] \\mid \\Theta[1])$, or `odf_magnitudes[5]/odf_magnitudes[:10].sum()`. You can directly calculate the probability of this two-hop turning angle sequence by\n",
    "\n",
    "```python\n",
    "prob_sigma2 = area2 * odf_magnitudes[1] * odf_magnitudes[5]/odf_magnitudes[:10].sum()\n",
    "```\n",
    "\n",
    "\n",
    "### Three-hop turning angle sequences\n",
    "\n",
    "The process again proceeds to loop over all directions in $\\Theta$ to see which could end in the blue rectangle while still starting in the center voxel $u$ (while forming an allowable angle with the previous step). Suppose the loop has made it to direction $\\Theta[7]$. The call to `get_area` will now use the blue rectangle as the target. This three-hop turning angle sequence is $\\sigma_3=\\left(\\Theta[7],\\Theta[1],\\Theta[5]\\right)$"
   ]
  },
  {
   "cell_type": "code",
   "execution_count": 8,
   "metadata": {},
   "outputs": [
    {
     "ename": "NameError",
     "evalue": "name 'odf_vertices' is not defined",
     "output_type": "error",
     "traceback": [
      "\u001b[0;31m---------------------------------------------------------------------------\u001b[0m",
      "\u001b[0;31mNameError\u001b[0m                                 Traceback (most recent call last)",
      "\u001b[0;32m<ipython-input-8-2c5d03fdc75e>\u001b[0m in \u001b[0;36m<module>\u001b[0;34m()\u001b[0m\n\u001b[1;32m      1\u001b[0m \u001b[0;31m# try a theta3\u001b[0m\u001b[0;34m\u001b[0m\u001b[0;34m\u001b[0m\u001b[0m\n\u001b[0;32m----> 2\u001b[0;31m \u001b[0mtheta3\u001b[0m \u001b[0;34m=\u001b[0m \u001b[0modf_vertices\u001b[0m\u001b[0;34m[\u001b[0m\u001b[0;36m7\u001b[0m\u001b[0;34m]\u001b[0m\u001b[0;34m\u001b[0m\u001b[0m\n\u001b[0m\u001b[1;32m      3\u001b[0m \u001b[0mfig\u001b[0m\u001b[0;34m,\u001b[0m\u001b[0;34m(\u001b[0m\u001b[0mdax2\u001b[0m\u001b[0;34m,\u001b[0m\u001b[0mvax2\u001b[0m\u001b[0;34m)\u001b[0m \u001b[0;34m=\u001b[0m \u001b[0mplt\u001b[0m\u001b[0;34m.\u001b[0m\u001b[0msubplots\u001b[0m\u001b[0;34m(\u001b[0m\u001b[0mncols\u001b[0m\u001b[0;34m=\u001b[0m\u001b[0;36m2\u001b[0m\u001b[0;34m,\u001b[0m\u001b[0msubplot_kw\u001b[0m \u001b[0;34m=\u001b[0m \u001b[0;34m{\u001b[0m\u001b[0;34m\"aspect\"\u001b[0m\u001b[0;34m:\u001b[0m\u001b[0;34m\"equal\"\u001b[0m\u001b[0;34m}\u001b[0m\u001b[0;34m)\u001b[0m\u001b[0;34m\u001b[0m\u001b[0m\n\u001b[1;32m      4\u001b[0m \u001b[0;34m\u001b[0m\u001b[0m\n\u001b[1;32m      5\u001b[0m \u001b[0mdraw_vertices\u001b[0m\u001b[0;34m(\u001b[0m\u001b[0mdax2\u001b[0m\u001b[0;34m,\u001b[0m \u001b[0mtheta1\u001b[0m\u001b[0;34m,\u001b[0m\u001b[0mselected_vertex_color\u001b[0m\u001b[0;34m=\u001b[0m\u001b[0;34m\"r\"\u001b[0m\u001b[0;34m)\u001b[0m\u001b[0;34m\u001b[0m\u001b[0m\n",
      "\u001b[0;31mNameError\u001b[0m: name 'odf_vertices' is not defined"
     ]
    }
   ],
   "source": [
    "# try a theta3\n",
    "theta3 = odf_vertices[7]\n",
    "fig,(dax2,vax2) = plt.subplots(ncols=2,subplot_kw = {\"aspect\":\"equal\"})\n",
    "\n",
    "draw_vertices(dax2, theta1,selected_vertex_color=\"r\")\n",
    "draw_vertex(dax2,theta2,color=\"b\")\n",
    "draw_vertex(dax2,theta3,color=\"g\")\n",
    "\n",
    "draw_grid(vax2)\n",
    "draw_square(sq_bot1, sq_top1, vax2, \"r\")\n",
    "draw_square(sq_bot2, sq_top2, vax2, \"b\")\n",
    "\n",
    "area3, sq_bot3,sq_top3 = get_area(v11,v12,sq_bot2,sq_top2,theta3)\n",
    "draw_square(sq_bot3, sq_top3, vax2, \"g\")"
   ]
  },
  {
   "cell_type": "markdown",
   "metadata": {},
   "source": [
    "Here the area $\\mathcal{V}(\\sigma_3,v)$ is drawn as a green rectangle and stored in variable `area3`. Again thinking back to probabilistic simulations, we need to calculate the probability of landing in the green rectangle *and* randomly selecting $\\Theta[7]$ *and then* randomly selecting $\\Theta[1]$ from directions compatible with $\\Theta[7]$ *and then* randomly selecting $\\Theta[5]$ from directions compatible with $\\Theta[1]$. \n",
    "\n",
    "The probability of landing in the green rectangle is $\\mathcal{V}(\\sigma_3,v)$, which is stored in the `area3` variable. There is no constraint on the first step, which is randomly selected from all the directions in $\\Theta$, so the probability is $\\bar{p}_u(\\Theta[7])$, or `odf_magnitudes[7]`. If directions 3-12 are compatible with $\\Theta[7]$, the conditional probability of the next step is $\\text{P}(\\Theta[1] \\mid \\Theta[7])$, or `odf_magnitudes[1]/odf_magnitudes[3:13].sum()`. Finally the probability of the final step is $\\text{P}(\\Theta[5] \\mid \\Theta[1])$, or `odf_magnitudes[5]/odf_magnitudes[:10].sum()`. You can directly calculate the probability of this three-hop turning angle sequence by\n",
    "\n",
    "```python\n",
    "prob_sigma3 = area3 * odf_magnitudes[7] * odf_magnitudes[1]/odf_magnitudes[3:13].sum() \\\n",
    "                * odf_magnitudes[5]/odf_magnitudes[:10].sum()\n",
    "```\n",
    "\n",
    "\n",
    "### N-hop turning angle sequences\n",
    "\n",
    "This process continues until there are no more compatible prior hops in center voxel $u$. Once all possibilities are exhausted the entire sum is written as a Fortran function that takes the `odf_magnitudes` array is its input. This Fortran code is compiled, a numpy extension is built with `f2py`, then the function is called from inside the `mittens.MITTENS` class."
   ]
  },
  {
   "cell_type": "markdown",
   "metadata": {},
   "source": [
    "# A complete example\n",
    "\n",
    "The code below is *not* the code used within `MITTENS`, but is useful to show how the algorithm would operate in 2D on up to three-step turning angle sequences. No probabilities are actually calculated here. One-hop areas are outlined in red, two-hop areas are blue and three-hop areas are green."
   ]
  },
  {
   "cell_type": "code",
   "execution_count": 13,
   "metadata": {},
   "outputs": [
    {
     "ename": "ImportError",
     "evalue": "No module named mittens.utils",
     "output_type": "error",
     "traceback": [
      "\u001b[0;31m---------------------------------------------------------------------------\u001b[0m",
      "\u001b[0;31mImportError\u001b[0m                               Traceback (most recent call last)",
      "\u001b[0;32m<ipython-input-13-d03dfa0655f3>\u001b[0m in \u001b[0;36m<module>\u001b[0;34m()\u001b[0m\n\u001b[0;32m----> 1\u001b[0;31m \u001b[0;32mfrom\u001b[0m \u001b[0mmittens\u001b[0m\u001b[0;34m.\u001b[0m\u001b[0mutils\u001b[0m \u001b[0;32mimport\u001b[0m \u001b[0mangle_between\u001b[0m\u001b[0;34m,\u001b[0m \u001b[0mpairwise_distances\u001b[0m\u001b[0;34m\u001b[0m\u001b[0m\n\u001b[0m\u001b[1;32m      2\u001b[0m \u001b[0;32mimport\u001b[0m \u001b[0mnumpy\u001b[0m \u001b[0;32mas\u001b[0m \u001b[0mnp\u001b[0m\u001b[0;34m\u001b[0m\u001b[0m\n\u001b[1;32m      3\u001b[0m \u001b[0;34m\u001b[0m\u001b[0m\n\u001b[1;32m      4\u001b[0m \u001b[0mangle_max\u001b[0m \u001b[0;34m=\u001b[0m \u001b[0;36m35\u001b[0m\u001b[0;34m\u001b[0m\u001b[0m\n\u001b[1;32m      5\u001b[0m \u001b[0;31m# Pre-calculate compatible angles\u001b[0m\u001b[0;34m\u001b[0m\u001b[0;34m\u001b[0m\u001b[0m\n",
      "\u001b[0;31mImportError\u001b[0m: No module named mittens.utils"
     ]
    }
   ],
   "source": [
    "from mittens.utils import angle_between, pairwise_distances\n",
    "import numpy as np\n",
    "\n",
    "angle_max = 35\n",
    "# Pre-calculate compatible angles\n",
    "compatible_angles = pairwise_distances(odf_vertices,metric=angle_between) < angle_max\n",
    "compatible_vertex_indices = np.array([np.flatnonzero(r) for r in compatible_angles])\n",
    "\n",
    "def draw_square(lower_left, upper_right, ax, color):\n",
    "\n",
    "    ax.add_patch(\n",
    "            patches.Rectangle(lower_left, upper_right[0]-lower_left[0],\n",
    "                upper_right[1] - lower_left[1], alpha=0.1, fc=color,\n",
    "                              fill=True))\n",
    "    ax.add_patch(\n",
    "            patches.Rectangle(lower_left, upper_right[0]-lower_left[0],\n",
    "                upper_right[1] - lower_left[1], alpha=1,lw=2,ec=color,\n",
    "                              fill=False))\n",
    "    \n",
    "def solve_for_neighbor(neighbor_min, neighbor_max):\n",
    "    center_min, center_max = [0,0], [1,1]\n",
    "    fig, axc = plt.subplots(subplot_kw = {\"aspect\":\"equal\"}, figsize=(6,6))\n",
    "    \n",
    "    # Which vertices exit into the target?\n",
    "    exits = np.array([\n",
    "            get_area(center_min, center_max, neighbor_min, neighbor_max, v)[0] > 0 \\\n",
    "               for v in odf_vertices ])\n",
    "    \n",
    "    for t1_num in np.flatnonzero(exits):\n",
    "        theta1 = odf_vertices[t1_num]\n",
    "        area1, sq_bot1, sq_top1 = get_area(center_min,center_max, \n",
    "                                        neighbor_min, neighbor_max, theta1)\n",
    "        draw_square(sq_bot1, sq_top1, axc, \"r\")\n",
    "        possible_theta2s = compatible_vertex_indices[t1_num]\n",
    "        \n",
    "        for t2_num in possible_theta2s:\n",
    "            theta2 = odf_vertices[t2_num]\n",
    "            area2, sq_bot2, sq_top2 = get_area(center_min,center_max, \n",
    "                                                    sq_bot1,sq_top1, theta2)\n",
    "            if area2 == 0:\n",
    "                continue\n",
    "                \n",
    "            draw_square(sq_bot2, sq_top2, axc, \"b\")\n",
    "            possible_theta3s = compatible_vertex_indices[t2_num]\n",
    "            \n",
    "            for t3_num in possible_theta3s:\n",
    "                theta3 = odf_vertices[t3_num]\n",
    "                area3, sq_bot3, sq_top3 = get_area(center_min,center_max, \n",
    "                                                        sq_bot2,sq_top2, theta3)\n",
    "                if area3 == 0:\n",
    "                    continue\n",
    "                draw_square(sq_bot3, sq_top3, axc, \"g\")\n",
    "\n",
    "\n",
    "\n",
    "    draw_grid(axc)\n",
    "    axc.set_xlim(-0.1,1.1)\n",
    "    axc.set_ylim(-0.1,1.1)\n"
   ]
  },
  {
   "cell_type": "markdown",
   "metadata": {},
   "source": [
    "## Right neighbor"
   ]
  },
  {
   "cell_type": "code",
   "execution_count": 10,
   "metadata": {},
   "outputs": [
    {
     "ename": "NameError",
     "evalue": "name 'solve_for_neighbor' is not defined",
     "output_type": "error",
     "traceback": [
      "\u001b[0;31m---------------------------------------------------------------------------\u001b[0m",
      "\u001b[0;31mNameError\u001b[0m                                 Traceback (most recent call last)",
      "\u001b[0;32m<ipython-input-10-47f85ebe2ca6>\u001b[0m in \u001b[0;36m<module>\u001b[0;34m()\u001b[0m\n\u001b[0;32m----> 1\u001b[0;31m \u001b[0msolve_for_neighbor\u001b[0m\u001b[0;34m(\u001b[0m\u001b[0;34m[\u001b[0m\u001b[0;36m1\u001b[0m\u001b[0;34m,\u001b[0m\u001b[0;36m0\u001b[0m\u001b[0;34m]\u001b[0m\u001b[0;34m,\u001b[0m\u001b[0;34m[\u001b[0m\u001b[0;36m2\u001b[0m\u001b[0;34m,\u001b[0m\u001b[0;36m1\u001b[0m\u001b[0;34m]\u001b[0m\u001b[0;34m)\u001b[0m\u001b[0;34m\u001b[0m\u001b[0m\n\u001b[0m",
      "\u001b[0;31mNameError\u001b[0m: name 'solve_for_neighbor' is not defined"
     ]
    }
   ],
   "source": [
    "solve_for_neighbor([1,0],[2,1])"
   ]
  },
  {
   "cell_type": "markdown",
   "metadata": {},
   "source": [
    "## Right Anterior Neighbor"
   ]
  },
  {
   "cell_type": "code",
   "execution_count": 9,
   "metadata": {},
   "outputs": [
    {
     "data": {
      "image/png": "[encoded data removed]",
      "text/plain": [
       "<matplotlib.figure.Figure at 0x7f165894e630>"
      ]
     },
     "metadata": {},
     "output_type": "display_data"
    }
   ],
   "source": [
    "solve_for_neighbor([1,1],[2,2])"
   ]
  },
  {
   "cell_type": "markdown",
   "metadata": {},
   "source": [
    "## Anterior Neighbor"
   ]
  },
  {
   "cell_type": "code",
   "execution_count": 10,
   "metadata": {},
   "outputs": [
    {
     "data": {
      "image/png": "[encoded data removed]",
      "text/plain": [
       "<matplotlib.figure.Figure at 0x7f16584f1f98>"
      ]
     },
     "metadata": {},
     "output_type": "display_data"
    }
   ],
   "source": [
    "solve_for_neighbor([0,1],[1,2])"
   ]
  },
  {
   "cell_type": "markdown",
   "metadata": {},
   "source": [
    "## Left Anterior Neighbor"
   ]
  },
  {
   "cell_type": "code",
   "execution_count": 11,
   "metadata": {},
   "outputs": [
    {
     "data": {
      "image/png": "[encoded data removed]",
      "text/plain": [
       "<matplotlib.figure.Figure at 0x7f16586a96d8>"
      ]
     },
     "metadata": {},
     "output_type": "display_data"
    }
   ],
   "source": [
    "solve_for_neighbor([-1,1],[0,2])"
   ]
  },
  {
   "cell_type": "markdown",
   "metadata": {},
   "source": [
    "## Left Neighbor"
   ]
  },
  {
   "cell_type": "code",
   "execution_count": 12,
   "metadata": {},
   "outputs": [
    {
     "data": {
      "image/png": "[encoded data removed]",
      "text/plain": [
       "<matplotlib.figure.Figure at 0x7f1658136208>"
      ]
     },
     "metadata": {},
     "output_type": "display_data"
    }
   ],
   "source": [
    "solve_for_neighbor([-1,0],[0,1])"
   ]
  },
  {
   "cell_type": "markdown",
   "metadata": {},
   "source": [
    "## Left Posterior Neighbor"
   ]
  },
  {
   "cell_type": "code",
   "execution_count": 13,
   "metadata": {},
   "outputs": [
    {
     "data": {
      "image/png": "[encoded data removed]",
      "text/plain": [
       "<matplotlib.figure.Figure at 0x7f165807aac8>"
      ]
     },
     "metadata": {},
     "output_type": "display_data"
    }
   ],
   "source": [
    "solve_for_neighbor([-1,-1],[0,0])"
   ]
  },
  {
   "cell_type": "markdown",
   "metadata": {},
   "source": [
    "## Posterior Neighbor"
   ]
  },
  {
   "cell_type": "code",
   "execution_count": 14,
   "metadata": {},
   "outputs": [
    {
     "data": {
      "image/png": "[encoded data removed]",
      "text/plain": [
       "<matplotlib.figure.Figure at 0x7f16585d5080>"
      ]
     },
     "metadata": {},
     "output_type": "display_data"
    }
   ],
   "source": [
    "solve_for_neighbor([0,-1],[1,0])"
   ]
  },
  {
   "cell_type": "markdown",
   "metadata": {},
   "source": [
    "## Right Posterior Neighbor"
   ]
  },
  {
   "cell_type": "code",
   "execution_count": 15,
   "metadata": {},
   "outputs": [
    {
     "data": {
      "image/png": "[encoded data removed]",
      "text/plain": [
       "<matplotlib.figure.Figure at 0x7f16583c8e80>"
      ]
     },
     "metadata": {},
     "output_type": "display_data"
    }
   ],
   "source": [
    "solve_for_neighbor([1,-1],[2,0])"
   ]
  }
 ],
 "metadata": {
  "anaconda-cloud": {},
  "kernelspec": {
   "display_name": "Python 3",
   "language": "python",
   "name": "python3"
  },
  "language_info": {
   "codemirror_mode": {
    "name": "ipython",
    "version": 2
   },
   "file_extension": ".py",
   "mimetype": "text/x-python",
   "name": "python",
   "nbconvert_exporter": "python",
   "pygments_lexer": "ipython2",
   "version": "2.7.13"
  }
 },
 "nbformat": 4,
 "nbformat_minor": 1
}
